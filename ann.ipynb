{
 "cells": [
  {
   "cell_type": "code",
   "execution_count": 1,
   "metadata": {},
   "outputs": [],
   "source": [
    "# Artificial Neural Networks"
   ]
  },
  {
   "cell_type": "code",
   "execution_count": 2,
   "metadata": {},
   "outputs": [],
   "source": [
    "# Importing the libraries \n",
    "import pandas as pd\n",
    "import numpy as np\n",
    "import matplotlib.pyplot as plt"
   ]
  },
  {
   "cell_type": "code",
   "execution_count": 3,
   "metadata": {},
   "outputs": [],
   "source": [
    "# Importing the dataset\n",
    "data = pd.read_csv(\"Churn_Modelling.csv\")"
   ]
  },
  {
   "cell_type": "code",
   "execution_count": 4,
   "metadata": {},
   "outputs": [
    {
     "data": {
      "text/html": [
       "<div>\n",
       "<style scoped>\n",
       "    .dataframe tbody tr th:only-of-type {\n",
       "        vertical-align: middle;\n",
       "    }\n",
       "\n",
       "    .dataframe tbody tr th {\n",
       "        vertical-align: top;\n",
       "    }\n",
       "\n",
       "    .dataframe thead th {\n",
       "        text-align: right;\n",
       "    }\n",
       "</style>\n",
       "<table border=\"1\" class=\"dataframe\">\n",
       "  <thead>\n",
       "    <tr style=\"text-align: right;\">\n",
       "      <th></th>\n",
       "      <th>RowNumber</th>\n",
       "      <th>CustomerId</th>\n",
       "      <th>Surname</th>\n",
       "      <th>CreditScore</th>\n",
       "      <th>Geography</th>\n",
       "      <th>Gender</th>\n",
       "      <th>Age</th>\n",
       "      <th>Tenure</th>\n",
       "      <th>Balance</th>\n",
       "      <th>NumOfProducts</th>\n",
       "      <th>HasCrCard</th>\n",
       "      <th>IsActiveMember</th>\n",
       "      <th>EstimatedSalary</th>\n",
       "      <th>Exited</th>\n",
       "    </tr>\n",
       "  </thead>\n",
       "  <tbody>\n",
       "    <tr>\n",
       "      <th>0</th>\n",
       "      <td>1</td>\n",
       "      <td>15634602</td>\n",
       "      <td>Hargrave</td>\n",
       "      <td>619</td>\n",
       "      <td>France</td>\n",
       "      <td>Female</td>\n",
       "      <td>42</td>\n",
       "      <td>2</td>\n",
       "      <td>0.00</td>\n",
       "      <td>1</td>\n",
       "      <td>1</td>\n",
       "      <td>1</td>\n",
       "      <td>101348.88</td>\n",
       "      <td>1</td>\n",
       "    </tr>\n",
       "    <tr>\n",
       "      <th>1</th>\n",
       "      <td>2</td>\n",
       "      <td>15647311</td>\n",
       "      <td>Hill</td>\n",
       "      <td>608</td>\n",
       "      <td>Spain</td>\n",
       "      <td>Female</td>\n",
       "      <td>41</td>\n",
       "      <td>1</td>\n",
       "      <td>83807.86</td>\n",
       "      <td>1</td>\n",
       "      <td>0</td>\n",
       "      <td>1</td>\n",
       "      <td>112542.58</td>\n",
       "      <td>0</td>\n",
       "    </tr>\n",
       "    <tr>\n",
       "      <th>2</th>\n",
       "      <td>3</td>\n",
       "      <td>15619304</td>\n",
       "      <td>Onio</td>\n",
       "      <td>502</td>\n",
       "      <td>France</td>\n",
       "      <td>Female</td>\n",
       "      <td>42</td>\n",
       "      <td>8</td>\n",
       "      <td>159660.80</td>\n",
       "      <td>3</td>\n",
       "      <td>1</td>\n",
       "      <td>0</td>\n",
       "      <td>113931.57</td>\n",
       "      <td>1</td>\n",
       "    </tr>\n",
       "    <tr>\n",
       "      <th>3</th>\n",
       "      <td>4</td>\n",
       "      <td>15701354</td>\n",
       "      <td>Boni</td>\n",
       "      <td>699</td>\n",
       "      <td>France</td>\n",
       "      <td>Female</td>\n",
       "      <td>39</td>\n",
       "      <td>1</td>\n",
       "      <td>0.00</td>\n",
       "      <td>2</td>\n",
       "      <td>0</td>\n",
       "      <td>0</td>\n",
       "      <td>93826.63</td>\n",
       "      <td>0</td>\n",
       "    </tr>\n",
       "    <tr>\n",
       "      <th>4</th>\n",
       "      <td>5</td>\n",
       "      <td>15737888</td>\n",
       "      <td>Mitchell</td>\n",
       "      <td>850</td>\n",
       "      <td>Spain</td>\n",
       "      <td>Female</td>\n",
       "      <td>43</td>\n",
       "      <td>2</td>\n",
       "      <td>125510.82</td>\n",
       "      <td>1</td>\n",
       "      <td>1</td>\n",
       "      <td>1</td>\n",
       "      <td>79084.10</td>\n",
       "      <td>0</td>\n",
       "    </tr>\n",
       "  </tbody>\n",
       "</table>\n",
       "</div>"
      ],
      "text/plain": [
       "   RowNumber  CustomerId   Surname  CreditScore Geography  Gender  Age  \\\n",
       "0          1    15634602  Hargrave          619    France  Female   42   \n",
       "1          2    15647311      Hill          608     Spain  Female   41   \n",
       "2          3    15619304      Onio          502    France  Female   42   \n",
       "3          4    15701354      Boni          699    France  Female   39   \n",
       "4          5    15737888  Mitchell          850     Spain  Female   43   \n",
       "\n",
       "   Tenure    Balance  NumOfProducts  HasCrCard  IsActiveMember  \\\n",
       "0       2       0.00              1          1               1   \n",
       "1       1   83807.86              1          0               1   \n",
       "2       8  159660.80              3          1               0   \n",
       "3       1       0.00              2          0               0   \n",
       "4       2  125510.82              1          1               1   \n",
       "\n",
       "   EstimatedSalary  Exited  \n",
       "0        101348.88       1  \n",
       "1        112542.58       0  \n",
       "2        113931.57       1  \n",
       "3         93826.63       0  \n",
       "4         79084.10       0  "
      ]
     },
     "execution_count": 4,
     "metadata": {},
     "output_type": "execute_result"
    }
   ],
   "source": [
    "data.head()"
   ]
  },
  {
   "cell_type": "code",
   "execution_count": 5,
   "metadata": {},
   "outputs": [],
   "source": [
    "# Importing the dataset\n",
    "dataset = pd.read_csv('Churn_Modelling.csv')\n",
    "X = dataset.iloc[:, 3:13].values\n",
    "y = dataset.iloc[:, 13].values"
   ]
  },
  {
   "cell_type": "code",
   "execution_count": 6,
   "metadata": {},
   "outputs": [
    {
     "name": "stderr",
     "output_type": "stream",
     "text": [
      "F:\\Installed\\Anaconda3\\envs\\tensorflow\\lib\\site-packages\\sklearn\\preprocessing\\_encoders.py:368: FutureWarning: The handling of integer data will change in version 0.22. Currently, the categories are determined based on the range [0, max(values)], while in the future they will be determined based on the unique values.\n",
      "If you want the future behaviour and silence this warning, you can specify \"categories='auto'\".\n",
      "In case you used a LabelEncoder before this OneHotEncoder to convert the categories to integers, then you can now use the OneHotEncoder directly.\n",
      "  warnings.warn(msg, FutureWarning)\n",
      "F:\\Installed\\Anaconda3\\envs\\tensorflow\\lib\\site-packages\\sklearn\\preprocessing\\_encoders.py:390: DeprecationWarning: The 'categorical_features' keyword is deprecated in version 0.20 and will be removed in 0.22. You can use the ColumnTransformer instead.\n",
      "  \"use the ColumnTransformer instead.\", DeprecationWarning)\n"
     ]
    }
   ],
   "source": [
    "# Encoding categorical data\n",
    "from sklearn.preprocessing import LabelEncoder, OneHotEncoder\n",
    "labelencoder_X_1 = LabelEncoder()\n",
    "X[:, 1] = labelencoder_X_1.fit_transform(X[:, 1])\n",
    "labelencoder_X_2 = LabelEncoder()\n",
    "X[:, 2] = labelencoder_X_2.fit_transform(X[:, 2])\n",
    "onehotencoder = OneHotEncoder(categorical_features = [1])\n",
    "X = onehotencoder.fit_transform(X).toarray()\n",
    "X = X[:, 1:]"
   ]
  },
  {
   "cell_type": "code",
   "execution_count": 7,
   "metadata": {},
   "outputs": [],
   "source": [
    "# Splitting the dataset into the Training set and Test set\n",
    "from sklearn.model_selection import train_test_split\n",
    "X_train, X_test, y_train, y_test = train_test_split(X, y, test_size = 0.2, random_state = 0)"
   ]
  },
  {
   "cell_type": "code",
   "execution_count": 8,
   "metadata": {},
   "outputs": [],
   "source": [
    "# Feature Scaling\n",
    "from sklearn.preprocessing import StandardScaler\n",
    "sc = StandardScaler()\n",
    "X_train = sc.fit_transform(X_train)\n",
    "X_test = sc.transform(X_test)"
   ]
  },
  {
   "cell_type": "code",
   "execution_count": 9,
   "metadata": {},
   "outputs": [
    {
     "name": "stderr",
     "output_type": "stream",
     "text": [
      "Using TensorFlow backend.\n"
     ]
    }
   ],
   "source": [
    "# Importing the Keras libraries and packages\n",
    "import keras"
   ]
  },
  {
   "cell_type": "code",
   "execution_count": 10,
   "metadata": {},
   "outputs": [],
   "source": [
    "from keras.models import Sequential\n",
    "from keras.layers import Dense"
   ]
  },
  {
   "cell_type": "code",
   "execution_count": 11,
   "metadata": {},
   "outputs": [],
   "source": [
    "# Initializing the ANN\n",
    "classifier = Sequential()"
   ]
  },
  {
   "cell_type": "code",
   "execution_count": 13,
   "metadata": {},
   "outputs": [
    {
     "name": "stderr",
     "output_type": "stream",
     "text": [
      "F:\\Installed\\Anaconda3\\envs\\tensorflow\\lib\\site-packages\\ipykernel_launcher.py:3: UserWarning: Update your `Dense` call to the Keras 2 API: `Dense(activation=\"relu\", input_dim=11, units=6, kernel_initializer=\"uniform\")`\n",
      "  This is separate from the ipykernel package so we can avoid doing imports until\n"
     ]
    }
   ],
   "source": [
    "# Adding the input layer and the first hidden layer\n",
    "classifier.add(Dense(output_dim = 6, init = 'uniform', \n",
    "                     activation = 'relu', input_dim = 11))"
   ]
  },
  {
   "cell_type": "code",
   "execution_count": 14,
   "metadata": {},
   "outputs": [
    {
     "name": "stderr",
     "output_type": "stream",
     "text": [
      "F:\\Installed\\Anaconda3\\envs\\tensorflow\\lib\\site-packages\\ipykernel_launcher.py:3: UserWarning: Update your `Dense` call to the Keras 2 API: `Dense(activation=\"relu\", units=6, kernel_initializer=\"uniform\")`\n",
      "  This is separate from the ipykernel package so we can avoid doing imports until\n"
     ]
    }
   ],
   "source": [
    "# Adding the second hidden layer\n",
    "classifier.add(Dense(output_dim = 6, init = 'uniform', \n",
    "                     activation = 'relu'))"
   ]
  },
  {
   "cell_type": "code",
   "execution_count": 15,
   "metadata": {},
   "outputs": [
    {
     "name": "stderr",
     "output_type": "stream",
     "text": [
      "F:\\Installed\\Anaconda3\\envs\\tensorflow\\lib\\site-packages\\ipykernel_launcher.py:3: UserWarning: Update your `Dense` call to the Keras 2 API: `Dense(activation=\"sigmoid\", units=1, kernel_initializer=\"uniform\")`\n",
      "  This is separate from the ipykernel package so we can avoid doing imports until\n"
     ]
    }
   ],
   "source": [
    "# Adding the output layer\n",
    "classifier.add(Dense(output_dim = 1, init = 'uniform', \n",
    "                     activation = 'sigmoid'))"
   ]
  },
  {
   "cell_type": "code",
   "execution_count": 17,
   "metadata": {},
   "outputs": [
    {
     "data": {
      "text/plain": [
       "array([[0.49995375],\n",
       "       [0.50002605],\n",
       "       [0.49996984],\n",
       "       ...,\n",
       "       [0.49993348],\n",
       "       [0.50000036],\n",
       "       [0.50003403]], dtype=float32)"
      ]
     },
     "execution_count": 17,
     "metadata": {},
     "output_type": "execute_result"
    }
   ],
   "source": [
    "y_pred"
   ]
  },
  {
   "cell_type": "code",
   "execution_count": 18,
   "metadata": {},
   "outputs": [],
   "source": [
    "# Compiling the ANN\n",
    "classifier.compile(optimizer = 'adam', loss = 'binary_crossentropy', metrics = ['accuracy'])"
   ]
  },
  {
   "cell_type": "code",
   "execution_count": 19,
   "metadata": {},
   "outputs": [
    {
     "name": "stderr",
     "output_type": "stream",
     "text": [
      "F:\\Installed\\Anaconda3\\envs\\tensorflow\\lib\\site-packages\\ipykernel_launcher.py:2: UserWarning: The `nb_epoch` argument in `fit` has been renamed `epochs`.\n",
      "  \n"
     ]
    },
    {
     "name": "stdout",
     "output_type": "stream",
     "text": [
      "Epoch 1/100\n",
      "8000/8000 [==============================] - 2s 292us/step - loss: 0.4861 - acc: 0.7955\n",
      "Epoch 2/100\n",
      "8000/8000 [==============================] - 1s 121us/step - loss: 0.4284 - acc: 0.7960\n",
      "Epoch 3/100\n",
      "8000/8000 [==============================] - 1s 118us/step - loss: 0.4217 - acc: 0.7987\n",
      "Epoch 4/100\n",
      "8000/8000 [==============================] - 1s 117us/step - loss: 0.4181 - acc: 0.8221\n",
      "Epoch 5/100\n",
      "8000/8000 [==============================] - 1s 125us/step - loss: 0.4155 - acc: 0.8300\n",
      "Epoch 6/100\n",
      "8000/8000 [==============================] - 1s 122us/step - loss: 0.4140 - acc: 0.8317\n",
      "Epoch 7/100\n",
      "8000/8000 [==============================] - 1s 133us/step - loss: 0.4124 - acc: 0.8335\n",
      "Epoch 8/100\n",
      "8000/8000 [==============================] - 1s 119us/step - loss: 0.4113 - acc: 0.8324\n",
      "Epoch 9/100\n",
      "8000/8000 [==============================] - 1s 132us/step - loss: 0.4105 - acc: 0.8322\n",
      "Epoch 10/100\n",
      "8000/8000 [==============================] - 1s 151us/step - loss: 0.4092 - acc: 0.8345\n",
      "Epoch 11/100\n",
      "8000/8000 [==============================] - 1s 121us/step - loss: 0.4085 - acc: 0.8344\n",
      "Epoch 12/100\n",
      "8000/8000 [==============================] - 1s 127us/step - loss: 0.4078 - acc: 0.8346\n",
      "Epoch 13/100\n",
      "8000/8000 [==============================] - 1s 113us/step - loss: 0.4069 - acc: 0.8351\n",
      "Epoch 14/100\n",
      "8000/8000 [==============================] - 1s 117us/step - loss: 0.4070 - acc: 0.8346\n",
      "Epoch 15/100\n",
      "8000/8000 [==============================] - 1s 114us/step - loss: 0.4064 - acc: 0.8346\n",
      "Epoch 16/100\n",
      "8000/8000 [==============================] - 1s 139us/step - loss: 0.4064 - acc: 0.8350\n",
      "Epoch 17/100\n",
      "8000/8000 [==============================] - 1s 121us/step - loss: 0.4059 - acc: 0.8339\n",
      "Epoch 18/100\n",
      "8000/8000 [==============================] - 1s 110us/step - loss: 0.4050 - acc: 0.8345\n",
      "Epoch 19/100\n",
      "8000/8000 [==============================] - 1s 106us/step - loss: 0.4048 - acc: 0.8361\n",
      "Epoch 20/100\n",
      "8000/8000 [==============================] - 1s 109us/step - loss: 0.4048 - acc: 0.8357\n",
      "Epoch 21/100\n",
      "8000/8000 [==============================] - 1s 106us/step - loss: 0.4040 - acc: 0.8345\n",
      "Epoch 22/100\n",
      "8000/8000 [==============================] - 1s 106us/step - loss: 0.4032 - acc: 0.8350\n",
      "Epoch 23/100\n",
      "8000/8000 [==============================] - 1s 141us/step - loss: 0.4042 - acc: 0.8345\n",
      "Epoch 24/100\n",
      "8000/8000 [==============================] - 1s 122us/step - loss: 0.4036 - acc: 0.8349\n",
      "Epoch 25/100\n",
      "8000/8000 [==============================] - 1s 113us/step - loss: 0.4033 - acc: 0.8341\n",
      "Epoch 26/100\n",
      "8000/8000 [==============================] - 1s 118us/step - loss: 0.4031 - acc: 0.8355\n",
      "Epoch 27/100\n",
      "8000/8000 [==============================] - 1s 117us/step - loss: 0.4031 - acc: 0.8361\n",
      "Epoch 28/100\n",
      "8000/8000 [==============================] - 1s 128us/step - loss: 0.4028 - acc: 0.8364\n",
      "Epoch 29/100\n",
      "8000/8000 [==============================] - 1s 119us/step - loss: 0.4027 - acc: 0.8357\n",
      "Epoch 30/100\n",
      "8000/8000 [==============================] - 1s 109us/step - loss: 0.4031 - acc: 0.8339\n",
      "Epoch 31/100\n",
      "8000/8000 [==============================] - 1s 112us/step - loss: 0.4028 - acc: 0.8357\n",
      "Epoch 32/100\n",
      "8000/8000 [==============================] - 1s 110us/step - loss: 0.4028 - acc: 0.8346\n",
      "Epoch 33/100\n",
      "8000/8000 [==============================] - 1s 124us/step - loss: 0.4026 - acc: 0.8360\n",
      "Epoch 34/100\n",
      "8000/8000 [==============================] - 1s 133us/step - loss: 0.4024 - acc: 0.8341\n",
      "Epoch 35/100\n",
      "8000/8000 [==============================] - 2s 189us/step - loss: 0.4021 - acc: 0.8336\n",
      "Epoch 36/100\n",
      "8000/8000 [==============================] - 2s 200us/step - loss: 0.4012 - acc: 0.8349\n",
      "Epoch 37/100\n",
      "8000/8000 [==============================] - 1s 171us/step - loss: 0.4019 - acc: 0.8351\n",
      "Epoch 38/100\n",
      "8000/8000 [==============================] - 1s 133us/step - loss: 0.4019 - acc: 0.8359\n",
      "Epoch 39/100\n",
      "8000/8000 [==============================] - 1s 156us/step - loss: 0.4016 - acc: 0.8355\n",
      "Epoch 40/100\n",
      "8000/8000 [==============================] - 1s 157us/step - loss: 0.4016 - acc: 0.8342\n",
      "Epoch 41/100\n",
      "8000/8000 [==============================] - 1s 177us/step - loss: 0.4020 - acc: 0.8340\n",
      "Epoch 42/100\n",
      "8000/8000 [==============================] - 1s 160us/step - loss: 0.4016 - acc: 0.8356\n",
      "Epoch 43/100\n",
      "8000/8000 [==============================] - 1s 177us/step - loss: 0.4012 - acc: 0.8350\n",
      "Epoch 44/100\n",
      "8000/8000 [==============================] - 1s 165us/step - loss: 0.4013 - acc: 0.8347\n",
      "Epoch 45/100\n",
      "8000/8000 [==============================] - 1s 162us/step - loss: 0.4015 - acc: 0.8356\n",
      "Epoch 46/100\n",
      "8000/8000 [==============================] - 1s 150us/step - loss: 0.4015 - acc: 0.8352\n",
      "Epoch 47/100\n",
      "8000/8000 [==============================] - 1s 146us/step - loss: 0.4012 - acc: 0.8360\n",
      "Epoch 48/100\n",
      "8000/8000 [==============================] - 1s 146us/step - loss: 0.4015 - acc: 0.8365\n",
      "Epoch 49/100\n",
      "8000/8000 [==============================] - 2s 201us/step - loss: 0.4011 - acc: 0.8366\n",
      "Epoch 50/100\n",
      "8000/8000 [==============================] - 1s 151us/step - loss: 0.4012 - acc: 0.8349\n",
      "Epoch 51/100\n",
      "8000/8000 [==============================] - 1s 159us/step - loss: 0.4010 - acc: 0.8361\n",
      "Epoch 52/100\n",
      "8000/8000 [==============================] - 1s 149us/step - loss: 0.4005 - acc: 0.8355\n",
      "Epoch 53/100\n",
      "8000/8000 [==============================] - 2s 268us/step - loss: 0.4010 - acc: 0.8351\n",
      "Epoch 54/100\n",
      "8000/8000 [==============================] - 2s 217us/step - loss: 0.4008 - acc: 0.8355\n",
      "Epoch 55/100\n",
      "8000/8000 [==============================] - 1s 169us/step - loss: 0.4007 - acc: 0.8357\n",
      "Epoch 56/100\n",
      "8000/8000 [==============================] - 2s 254us/step - loss: 0.4009 - acc: 0.8359\n",
      "Epoch 57/100\n",
      "8000/8000 [==============================] - 2s 190us/step - loss: 0.4003 - acc: 0.8351\n",
      "Epoch 58/100\n",
      "8000/8000 [==============================] - 2s 215us/step - loss: 0.4010 - acc: 0.8361\n",
      "Epoch 59/100\n",
      "8000/8000 [==============================] - 2s 201us/step - loss: 0.4011 - acc: 0.8360\n",
      "Epoch 60/100\n",
      "8000/8000 [==============================] - 1s 180us/step - loss: 0.4005 - acc: 0.8365\n",
      "Epoch 61/100\n",
      "8000/8000 [==============================] - 2s 246us/step - loss: 0.4004 - acc: 0.8355\n",
      "Epoch 62/100\n",
      "8000/8000 [==============================] - 2s 202us/step - loss: 0.4006 - acc: 0.8366\n",
      "Epoch 63/100\n",
      "8000/8000 [==============================] - 2s 210us/step - loss: 0.4004 - acc: 0.8349\n",
      "Epoch 64/100\n",
      "8000/8000 [==============================] - 2s 235us/step - loss: 0.4005 - acc: 0.8360\n",
      "Epoch 65/100\n",
      "8000/8000 [==============================] - 1s 185us/step - loss: 0.4004 - acc: 0.8354\n",
      "Epoch 66/100\n",
      "8000/8000 [==============================] - 1s 165us/step - loss: 0.4003 - acc: 0.8365\n",
      "Epoch 67/100\n",
      "8000/8000 [==============================] - 2s 248us/step - loss: 0.4006 - acc: 0.8372\n",
      "Epoch 68/100\n",
      "8000/8000 [==============================] - 2s 220us/step - loss: 0.4005 - acc: 0.8346\n",
      "Epoch 69/100\n",
      "8000/8000 [==============================] - 2s 192us/step - loss: 0.4003 - acc: 0.8359\n",
      "Epoch 70/100\n",
      "8000/8000 [==============================] - 2s 206us/step - loss: 0.4003 - acc: 0.8355\n",
      "Epoch 71/100\n",
      "8000/8000 [==============================] - 1s 181us/step - loss: 0.4002 - acc: 0.8352\n",
      "Epoch 72/100\n",
      "8000/8000 [==============================] - 1s 171us/step - loss: 0.4001 - acc: 0.8366\n",
      "Epoch 73/100\n",
      "8000/8000 [==============================] - 1s 182us/step - loss: 0.4004 - acc: 0.8359\n",
      "Epoch 74/100\n",
      "8000/8000 [==============================] - 2s 195us/step - loss: 0.4002 - acc: 0.8374\n",
      "Epoch 75/100\n",
      "8000/8000 [==============================] - 1s 175us/step - loss: 0.4001 - acc: 0.8354\n",
      "Epoch 76/100\n",
      "8000/8000 [==============================] - 1s 172us/step - loss: 0.4004 - acc: 0.8355\n",
      "Epoch 77/100\n",
      "8000/8000 [==============================] - 1s 182us/step - loss: 0.4005 - acc: 0.8345\n",
      "Epoch 78/100\n",
      "8000/8000 [==============================] - 1s 172us/step - loss: 0.4002 - acc: 0.8367\n",
      "Epoch 79/100\n",
      "8000/8000 [==============================] - 1s 166us/step - loss: 0.4002 - acc: 0.8366\n",
      "Epoch 80/100\n",
      "8000/8000 [==============================] - 1s 170us/step - loss: 0.4005 - acc: 0.8362\n",
      "Epoch 81/100\n",
      "8000/8000 [==============================] - 2s 242us/step - loss: 0.4001 - acc: 0.8364\n",
      "Epoch 82/100\n"
     ]
    },
    {
     "name": "stdout",
     "output_type": "stream",
     "text": [
      "8000/8000 [==============================] - 1s 166us/step - loss: 0.4005 - acc: 0.8364\n",
      "Epoch 83/100\n",
      "8000/8000 [==============================] - 1s 139us/step - loss: 0.3999 - acc: 0.8354\n",
      "Epoch 84/100\n",
      "8000/8000 [==============================] - 1s 162us/step - loss: 0.4002 - acc: 0.8335\n",
      "Epoch 85/100\n",
      "8000/8000 [==============================] - 1s 149us/step - loss: 0.4001 - acc: 0.8369\n",
      "Epoch 86/100\n",
      "8000/8000 [==============================] - 1s 144us/step - loss: 0.3997 - acc: 0.8355\n",
      "Epoch 87/100\n",
      "8000/8000 [==============================] - 1s 139us/step - loss: 0.3999 - acc: 0.8364\n",
      "Epoch 88/100\n",
      "8000/8000 [==============================] - 1s 142us/step - loss: 0.3998 - acc: 0.8350\n",
      "Epoch 89/100\n",
      "8000/8000 [==============================] - 1s 155us/step - loss: 0.3999 - acc: 0.8351\n",
      "Epoch 90/100\n",
      "8000/8000 [==============================] - 1s 137us/step - loss: 0.3997 - acc: 0.8367\n",
      "Epoch 91/100\n",
      "8000/8000 [==============================] - 1s 137us/step - loss: 0.3991 - acc: 0.8347\n",
      "Epoch 92/100\n",
      "8000/8000 [==============================] - 1s 145us/step - loss: 0.3999 - acc: 0.8366\n",
      "Epoch 93/100\n",
      "8000/8000 [==============================] - 1s 159us/step - loss: 0.3998 - acc: 0.8352\n",
      "Epoch 94/100\n",
      "8000/8000 [==============================] - 1s 128us/step - loss: 0.3995 - acc: 0.8344\n",
      "Epoch 95/100\n",
      "8000/8000 [==============================] - 1s 126us/step - loss: 0.4000 - acc: 0.8347\n",
      "Epoch 96/100\n",
      "8000/8000 [==============================] - 1s 129us/step - loss: 0.3997 - acc: 0.8335\n",
      "Epoch 97/100\n",
      "8000/8000 [==============================] - 1s 137us/step - loss: 0.3997 - acc: 0.8344\n",
      "Epoch 98/100\n",
      "8000/8000 [==============================] - 1s 152us/step - loss: 0.3997 - acc: 0.8360\n",
      "Epoch 99/100\n",
      "8000/8000 [==============================] - 1s 142us/step - loss: 0.3999 - acc: 0.8347\n",
      "Epoch 100/100\n",
      "8000/8000 [==============================] - 1s 140us/step - loss: 0.3999 - acc: 0.8360\n"
     ]
    },
    {
     "data": {
      "text/plain": [
       "<keras.callbacks.History at 0x1a3e75796d8>"
      ]
     },
     "execution_count": 19,
     "metadata": {},
     "output_type": "execute_result"
    }
   ],
   "source": [
    "# Fitting the ANN to the training set\n",
    "classifier.fit(X_train, y_train, batch_size = 10, nb_epoch = 100)"
   ]
  },
  {
   "cell_type": "code",
   "execution_count": 20,
   "metadata": {},
   "outputs": [],
   "source": [
    "# Predicting the test set result\n",
    "y_pred = classifier.predict(X_test)"
   ]
  },
  {
   "cell_type": "code",
   "execution_count": 22,
   "metadata": {},
   "outputs": [
    {
     "data": {
      "text/plain": [
       "array([[0.18820348],\n",
       "       [0.33680636],\n",
       "       [0.18828283],\n",
       "       ...,\n",
       "       [0.17118345],\n",
       "       [0.17428927],\n",
       "       [0.09666966]], dtype=float32)"
      ]
     },
     "execution_count": 22,
     "metadata": {},
     "output_type": "execute_result"
    }
   ],
   "source": [
    "y_pred"
   ]
  },
  {
   "cell_type": "code",
   "execution_count": 23,
   "metadata": {},
   "outputs": [],
   "source": [
    "y_pred = (y_pred>0.5)"
   ]
  },
  {
   "cell_type": "code",
   "execution_count": 24,
   "metadata": {},
   "outputs": [],
   "source": [
    "# Making the confusion matrix\n",
    "from sklearn.metrics import confusion_matrix\n",
    "cm = confusion_matrix(y_test, y_pred)"
   ]
  },
  {
   "cell_type": "code",
   "execution_count": 25,
   "metadata": {},
   "outputs": [
    {
     "name": "stdout",
     "output_type": "stream",
     "text": [
      "[[1539   56]\n",
      " [ 267  138]]\n"
     ]
    }
   ],
   "source": [
    "print(cm)"
   ]
  },
  {
   "cell_type": "code",
   "execution_count": null,
   "metadata": {},
   "outputs": [],
   "source": []
  }
 ],
 "metadata": {
  "kernelspec": {
   "display_name": "Python [conda env:tensorflow]",
   "language": "python",
   "name": "conda-env-tensorflow-py"
  },
  "language_info": {
   "codemirror_mode": {
    "name": "ipython",
    "version": 3
   },
   "file_extension": ".py",
   "mimetype": "text/x-python",
   "name": "python",
   "nbconvert_exporter": "python",
   "pygments_lexer": "ipython3",
   "version": "3.6.8"
  },
  "varInspector": {
   "cols": {
    "lenName": 16,
    "lenType": 16,
    "lenVar": 40
   },
   "kernels_config": {
    "python": {
     "delete_cmd_postfix": "",
     "delete_cmd_prefix": "del ",
     "library": "var_list.py",
     "varRefreshCmd": "print(var_dic_list())"
    },
    "r": {
     "delete_cmd_postfix": ") ",
     "delete_cmd_prefix": "rm(",
     "library": "var_list.r",
     "varRefreshCmd": "cat(var_dic_list()) "
    }
   },
   "position": {
    "height": "430px",
    "left": "579px",
    "right": "20px",
    "top": "120px",
    "width": "359px"
   },
   "types_to_exclude": [
    "module",
    "function",
    "builtin_function_or_method",
    "instance",
    "_Feature"
   ],
   "window_display": false
  }
 },
 "nbformat": 4,
 "nbformat_minor": 2
}
